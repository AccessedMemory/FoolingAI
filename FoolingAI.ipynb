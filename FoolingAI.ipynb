{
  "nbformat": 4,
  "nbformat_minor": 0,
  "metadata": {
    "colab": {
      "name": "FoolingAI.ipynb",
      "provenance": [],
      "collapsed_sections": [
        "41yqOKTQGE22",
        "Y923AD_oGdSo",
        "7U5GDahmOCYY",
        "aRzfGjSpaogn",
        "mSdhVvW9DqNn",
        "FJFb29BChcz8",
        "Vc5PriJId6Ws",
        "m9gZE9VtgUZE",
        "p2nkxF7_gv22",
        "h6ocOW8CiiC0",
        "QW-pI6ABiDSO",
        "R9FppbQx7DI9",
        "94m0Lku9jahb",
        "6gCOzMZ7lORs",
        "WbKshgQmm_BD",
        "lUdpCkrcoFcr"
      ],
      "toc_visible": true
    },
    "kernelspec": {
      "name": "python3",
      "display_name": "Python 3"
    },
    "language_info": {
      "name": "python"
    },
    "accelerator": "GPU"
  },
  "cells": [
    {
      "cell_type": "markdown",
      "metadata": {
        "id": "DgKJMiuosor6"
      },
      "source": [
        "In this notebook, we investigate three methods of altering data in an iterative way that will increasingly decrease the accuracy of a convolutional neural network.\n",
        "\n",
        "Ideally run this in Google Colab with a GPU as this will make training the model considerably faster."
      ]
    },
    {
      "cell_type": "markdown",
      "metadata": {
        "id": "41yqOKTQGE22"
      },
      "source": [
        "# Import Packages"
      ]
    },
    {
      "cell_type": "code",
      "metadata": {
        "id": "jyI8Uw8sGbwc"
      },
      "source": [
        "import numpy as np\n",
        "import matplotlib.pyplot as plt \n",
        "from sklearn.datasets import load_digits\n",
        "from keras.datasets import mnist\n",
        "from tqdm import tqdm\n",
        "\n",
        "import tensorflow as tf\n",
        "from tensorflow.keras import datasets, layers, models\n",
        "from tensorflow.keras.utils import to_categorical"
      ],
      "execution_count": 1,
      "outputs": []
    },
    {
      "cell_type": "markdown",
      "metadata": {
        "id": "Y923AD_oGdSo"
      },
      "source": [
        "# Load and Inspect Data"
      ]
    },
    {
      "cell_type": "markdown",
      "metadata": {
        "id": "d-9-PDvkHbxa"
      },
      "source": [
        "The data we will be using is the MNIST data set compised of \t\n",
        "70,000 hand-written digits. \n",
        "- There are 10 classes (numbers 0-9). \n",
        "- Each image is 28x28 pixels.\n",
        "- There is only one channel as it is a greyscale image.\n",
        "- The intensity is an integer between 0 and 255 so we need to normalise the pixels.\n",
        "\n",
        "(Link: https://scikit-learn.org/stable/modules/generated/sklearn.datasets.load_digits.html)"
      ]
    },
    {
      "cell_type": "markdown",
      "metadata": {
        "id": "KRWlv38TIODm"
      },
      "source": [
        "As we are going to train a model and test it, we can load the data into this split. X are the images and y are the labels that the model is trying to learn."
      ]
    },
    {
      "cell_type": "code",
      "metadata": {
        "id": "WVwV7v-DMiHO",
        "colab": {
          "base_uri": "https://localhost:8080/"
        },
        "outputId": "0ab1f7fb-5db4-4775-be4c-ceb569b461b1"
      },
      "source": [
        "(train_X, train_y), (test_X, test_y) = mnist.load_data()"
      ],
      "execution_count": 2,
      "outputs": [
        {
          "output_type": "stream",
          "text": [
            "Downloading data from https://storage.googleapis.com/tensorflow/tf-keras-datasets/mnist.npz\n",
            "11493376/11490434 [==============================] - 1s 0us/step\n",
            "11501568/11490434 [==============================] - 1s 0us/step\n"
          ],
          "name": "stdout"
        }
      ]
    },
    {
      "cell_type": "code",
      "metadata": {
        "colab": {
          "base_uri": "https://localhost:8080/"
        },
        "id": "AVsEJs3BMmb0",
        "outputId": "71374823-9259-4177-bff5-dca6538a3b1b"
      },
      "source": [
        "print('Train X', train_X.shape)\n",
        "print('Train y', train_y.shape)\n",
        "print('Test X', test_X.shape)\n",
        "print('Test y', test_y.shape)"
      ],
      "execution_count": 3,
      "outputs": [
        {
          "output_type": "stream",
          "text": [
            "Train X (60000, 28, 28)\n",
            "Train y (60000,)\n",
            "Test X (10000, 28, 28)\n",
            "Test y (10000,)\n"
          ],
          "name": "stdout"
        }
      ]
    },
    {
      "cell_type": "markdown",
      "metadata": {
        "id": "HzV5vQwXNbq-"
      },
      "source": [
        "You can see we have a train-test split of 6:1."
      ]
    },
    {
      "cell_type": "markdown",
      "metadata": {
        "id": "zYgynf0_IEEu"
      },
      "source": [
        "We don't just want a train and test set. Instead, we want:\n",
        "- a **train** set (to train the model on), \n",
        "- a **validation** set (to test the model on if we want to improve the generalizability) \n",
        "- a **test** set (that we can test the model on once it has been optimized)."
      ]
    },
    {
      "cell_type": "markdown",
      "metadata": {
        "id": "kRM9dqzIYtpH"
      },
      "source": [
        "So lets take the train set and split this up to form out train and validation sets."
      ]
    },
    {
      "cell_type": "code",
      "metadata": {
        "id": "JSWf5TWQIcrz"
      },
      "source": [
        "val_X = train_X[40000:]\n",
        "val_y = train_y[40000:]\n",
        "\n",
        "train_X = train_X[:40000]\n",
        "train_y = train_y[:40000]"
      ],
      "execution_count": 4,
      "outputs": []
    },
    {
      "cell_type": "code",
      "metadata": {
        "colab": {
          "base_uri": "https://localhost:8080/"
        },
        "id": "Huj8m624JAtj",
        "outputId": "5d27a18a-c8b7-4ad1-bfe6-c35af535b1b6"
      },
      "source": [
        "print('Train X', train_X.shape)\n",
        "print('Train y', train_y.shape)\n",
        "print('')\n",
        "print('Val   X', val_X.shape)\n",
        "print('Val   y', val_y.shape)\n",
        "print('')\n",
        "print('Test  X', test_X.shape)\n",
        "print('Test  y', test_y.shape)"
      ],
      "execution_count": 5,
      "outputs": [
        {
          "output_type": "stream",
          "text": [
            "Train X (40000, 28, 28)\n",
            "Train y (40000,)\n",
            "\n",
            "Val   X (20000, 28, 28)\n",
            "Val   y (20000,)\n",
            "\n",
            "Test  X (10000, 28, 28)\n",
            "Test  y (10000,)\n"
          ],
          "name": "stdout"
        }
      ]
    },
    {
      "cell_type": "markdown",
      "metadata": {
        "id": "FmS573uUJhOc"
      },
      "source": [
        "So now we have a 4:2:1 split."
      ]
    },
    {
      "cell_type": "markdown",
      "metadata": {
        "id": "eQ5qeZaeIf0b"
      },
      "source": [
        "The data contains images and image labels. Let's visualise the first 9 images with their labels."
      ]
    },
    {
      "cell_type": "code",
      "metadata": {
        "colab": {
          "base_uri": "https://localhost:8080/",
          "height": 591
        },
        "id": "2ri8d3FDIfXh",
        "outputId": "2605f93b-c5be-4ae2-9a78-e1a665fb44e3"
      },
      "source": [
        "plt.figure(figsize = (10,10))\n",
        "for i in range(1,10):\n",
        "\n",
        "    plt.subplot(3,3,i)\n",
        "    plt.gray()\n",
        "    plt.imshow(train_X[i])\n",
        "    plt.title(train_y[i])\n",
        "    plt.axis('off')\n",
        "\n",
        "plt.show() "
      ],
      "execution_count": 6,
      "outputs": [
        {
          "output_type": "display_data",
          "data": {
            "image/png": "[encoded data removed]",
            "text/plain": [
              "<Figure size 720x720 with 9 Axes>"
            ]
          },
          "metadata": {
            "tags": [],
            "needs_background": "light"
          }
        }
      ]
    },
    {
      "cell_type": "markdown",
      "metadata": {
        "id": "QJoR-FKeTW43"
      },
      "source": [
        "We need to reshape the data to be one list of images."
      ]
    },
    {
      "cell_type": "code",
      "metadata": {
        "id": "iLYTBPNUSfp9"
      },
      "source": [
        "train_X = train_X.reshape((train_X.shape[0], 28, 28, 1))\n",
        "val_X = val_X.reshape((val_X.shape[0], 28, 28, 1))\n",
        "test_X_copy = test_X.copy().reshape((test_X.shape[0], 28, 28,1))"
      ],
      "execution_count": 7,
      "outputs": []
    },
    {
      "cell_type": "markdown",
      "metadata": {
        "id": "P6SSUiX6TyC1"
      },
      "source": [
        "Make sure that the data is comprised of `float` values and then scale the data. We are doing this because these pixel values in the images are in the range 0-255 (black is 0, white is 1). However, we want them in the range 0-1 so that it contributes more evenly to the loss, making it easier for the model to learn. "
      ]
    },
    {
      "cell_type": "code",
      "metadata": {
        "id": "lHDduMRcTvL5"
      },
      "source": [
        "train_norm = train_X.astype('float32')\n",
        "val_norm = val_X.astype('float32')\n",
        "test_norm_copy = test_X_copy.astype('float32')\n",
        "\n",
        "train_norm /= 255.0\n",
        "val_norm /= 255.0\n",
        "test_norm_copy /= 255.0"
      ],
      "execution_count": 8,
      "outputs": []
    },
    {
      "cell_type": "markdown",
      "metadata": {
        "id": "RvtTLvlLTc_o"
      },
      "source": [
        "The output needs to be one hot encoded. For example:\n",
        "\n",
        "0 is represented as  [1,0,0,0,0,0,0,0,0,0]\n",
        "\n",
        "1 is represented as  [0,1,0,0,0,0,0,0,0,0]\n",
        "\n",
        "2 is represented as  [0,0,2,0,0,0,0,0,0,0]\n",
        "\n",
        "etc."
      ]
    },
    {
      "cell_type": "code",
      "metadata": {
        "id": "fQ6y1yatSs_s"
      },
      "source": [
        "train_y = to_categorical(train_y)\n",
        "val_y = to_categorical(val_y)\n",
        "test_y = to_categorical(test_y)"
      ],
      "execution_count": 9,
      "outputs": []
    },
    {
      "cell_type": "markdown",
      "metadata": {
        "id": "7U5GDahmOCYY"
      },
      "source": [
        "# Create and Train a Model"
      ]
    },
    {
      "cell_type": "markdown",
      "metadata": {
        "id": "y6DzTuu8QoJJ"
      },
      "source": [
        "Lets first define the model and the layers it contains. \n",
        "There will likely be another blog post specifically on these layers but for now, our model is a convolutional neural network (CNN)."
      ]
    },
    {
      "cell_type": "code",
      "metadata": {
        "colab": {
          "base_uri": "https://localhost:8080/"
        },
        "id": "_fg94QXyOa_e",
        "outputId": "17f79425-d7cd-4b5c-e9d5-78e60126296d"
      },
      "source": [
        "model = models.Sequential()\n",
        "\n",
        "model.add(layers.Conv2D(filters = 64, kernel_size=(3,3), activation = 'relu', padding = 'same', input_shape = (28,28,1)))\n",
        "model.add(layers.Conv2D(filters = 64, kernel_size=(3,3), activation = 'relu', padding = 'same'))\n",
        "model.add(layers.MaxPooling2D(pool_size=(2,2)))\n",
        "model.add(layers.Dropout(0.25))\n",
        "model.add(layers.Flatten())\n",
        "model.add(layers.Dense(units = 128, activation = 'relu'))\n",
        "model.add(layers.Dropout(0.5))\n",
        "model.add(layers.Dense(units = 10, activation='softmax'))\n",
        "\n",
        "model.summary()"
      ],
      "execution_count": 10,
      "outputs": [
        {
          "output_type": "stream",
          "text": [
            "Model: \"sequential\"\n",
            "_________________________________________________________________\n",
            "Layer (type)                 Output Shape              Param #   \n",
            "=================================================================\n",
            "conv2d (Conv2D)              (None, 28, 28, 64)        640       \n",
            "_________________________________________________________________\n",
            "conv2d_1 (Conv2D)            (None, 28, 28, 64)        36928     \n",
            "_________________________________________________________________\n",
            "max_pooling2d (MaxPooling2D) (None, 14, 14, 64)        0         \n",
            "_________________________________________________________________\n",
            "dropout (Dropout)            (None, 14, 14, 64)        0         \n",
            "_________________________________________________________________\n",
            "flatten (Flatten)            (None, 12544)             0         \n",
            "_________________________________________________________________\n",
            "dense (Dense)                (None, 128)               1605760   \n",
            "_________________________________________________________________\n",
            "dropout_1 (Dropout)          (None, 128)               0         \n",
            "_________________________________________________________________\n",
            "dense_1 (Dense)              (None, 10)                1290      \n",
            "=================================================================\n",
            "Total params: 1,644,618\n",
            "Trainable params: 1,644,618\n",
            "Non-trainable params: 0\n",
            "_________________________________________________________________\n"
          ],
          "name": "stdout"
        }
      ]
    },
    {
      "cell_type": "markdown",
      "metadata": {
        "id": "I9nR6a0sdAE3"
      },
      "source": [
        "This is what our model looks like.\n",
        "\n",
        "![2_layer_CNN_small.png](data:image/png;base64,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)"
      ]
    },
    {
      "cell_type": "markdown",
      "metadata": {
        "id": "rARQ0uNlQuZL"
      },
      "source": [
        "Define the loss and optimization (this is what helps the model learn and how fast to learn)."
      ]
    },
    {
      "cell_type": "code",
      "metadata": {
        "id": "anDwdPHzP46G"
      },
      "source": [
        "model.compile(optimizer='adam',\n",
        "              loss = 'categorical_crossentropy',\n",
        "              metrics=['accuracy'])"
      ],
      "execution_count": 11,
      "outputs": []
    },
    {
      "cell_type": "markdown",
      "metadata": {
        "id": "AYaO_s2wQ1jj"
      },
      "source": [
        "Train the model for 10 epochs. 1 epoch is when the model has assessed every image in the training data once."
      ]
    },
    {
      "cell_type": "code",
      "metadata": {
        "colab": {
          "base_uri": "https://localhost:8080/"
        },
        "id": "KPLjz1EuQ1Aw",
        "outputId": "04b11398-cf0f-4001-a1e6-6af7e8f9ef23"
      },
      "source": [
        "history = model.fit(train_norm, train_y, batch_size = 128, validation_data=(val_norm, val_y), epochs=10)"
      ],
      "execution_count": 12,
      "outputs": [
        {
          "output_type": "stream",
          "text": [
            "Epoch 1/10\n",
            "313/313 [==============================] - 37s 16ms/step - loss: 0.2913 - accuracy: 0.9097 - val_loss: 0.0756 - val_accuracy: 0.9783\n",
            "Epoch 2/10\n",
            "313/313 [==============================] - 4s 13ms/step - loss: 0.0954 - accuracy: 0.9712 - val_loss: 0.0573 - val_accuracy: 0.9815\n",
            "Epoch 3/10\n",
            "313/313 [==============================] - 4s 13ms/step - loss: 0.0709 - accuracy: 0.9779 - val_loss: 0.0490 - val_accuracy: 0.9852\n",
            "Epoch 4/10\n",
            "313/313 [==============================] - 4s 13ms/step - loss: 0.0568 - accuracy: 0.9823 - val_loss: 0.0480 - val_accuracy: 0.9852\n",
            "Epoch 5/10\n",
            "313/313 [==============================] - 4s 14ms/step - loss: 0.0494 - accuracy: 0.9838 - val_loss: 0.0410 - val_accuracy: 0.9874\n",
            "Epoch 6/10\n",
            "313/313 [==============================] - 4s 13ms/step - loss: 0.0415 - accuracy: 0.9865 - val_loss: 0.0453 - val_accuracy: 0.9872\n",
            "Epoch 7/10\n",
            "313/313 [==============================] - 4s 14ms/step - loss: 0.0350 - accuracy: 0.9884 - val_loss: 0.0475 - val_accuracy: 0.9878\n",
            "Epoch 8/10\n",
            "313/313 [==============================] - 4s 13ms/step - loss: 0.0332 - accuracy: 0.9893 - val_loss: 0.0421 - val_accuracy: 0.9890\n",
            "Epoch 9/10\n",
            "313/313 [==============================] - 4s 13ms/step - loss: 0.0311 - accuracy: 0.9897 - val_loss: 0.0459 - val_accuracy: 0.9886\n",
            "Epoch 10/10\n",
            "313/313 [==============================] - 5s 15ms/step - loss: 0.0270 - accuracy: 0.9909 - val_loss: 0.0449 - val_accuracy: 0.9890\n"
          ],
          "name": "stdout"
        }
      ]
    },
    {
      "cell_type": "markdown",
      "metadata": {
        "id": "T91hok_Kdjcf"
      },
      "source": [
        "Let's see how the loss decreased and the accuracy increased over the course of training."
      ]
    },
    {
      "cell_type": "code",
      "metadata": {
        "colab": {
          "base_uri": "https://localhost:8080/",
          "height": 585
        },
        "id": "3C5-Ou4wM1eT",
        "outputId": "7730719f-7549-4e76-9b2b-1da1443ca06b"
      },
      "source": [
        "fig = plt.figure(figsize = (9, 8))\n",
        "ax  = fig.add_subplot(2, 1, 1)\n",
        "ax.plot(history.history['loss'], color='#0d679b', label='train')\n",
        "ax.plot(history.history['val_loss'], color='#0CBB9B', label='val')\n",
        "ax.spines['bottom'].set_color('#18293A')\n",
        "ax.spines['top'].set_color('#18293A') \n",
        "ax.spines['right'].set_color('#18293A')\n",
        "ax.spines['left'].set_color('#18293A')\n",
        "ax.title.set_text('Classification Accuracy')\n",
        "# ax.tick_params(axis = 'x', labelrotation = 45)\n",
        "ax.set_ylabel('Accuracy')\n",
        "ax.set_xlabel('Epoch')\n",
        "plt.legend(prop={'size': 15})\n",
        "\n",
        "ax  = fig.add_subplot(2, 1, 2)\n",
        "ax.plot(history.history['accuracy'], color='#0d679b', label='train')\n",
        "ax.plot(history.history['val_accuracy'], color='#0CBB9B', label='val')\n",
        "ax.spines['bottom'].set_color('#18293A')\n",
        "ax.spines['top'].set_color('#18293A') \n",
        "ax.spines['right'].set_color('#18293A')\n",
        "ax.spines['left'].set_color('#18293A')\n",
        "ax.title.set_text('Classification Accuracy')\n",
        "# ax.tick_params(axis = 'x', labelrotation = 45)\n",
        "ax.set_ylabel('Accuracy')\n",
        "ax.set_xlabel('Epoch')\n",
        "plt.legend(prop={'size': 15})\n",
        "plt.tight_layout(h_pad=5.0)\n",
        "plt.show()  "
      ],
      "execution_count": 39,
      "outputs": [
        {
          "output_type": "display_data",
          "data": {
            "image/png": "[encoded data removed]",
            "text/plain": [
              "<Figure size 648x576 with 2 Axes>"
            ]
          },
          "metadata": {
            "tags": [],
            "needs_background": "light"
          }
        }
      ]
    },
    {
      "cell_type": "markdown",
      "metadata": {
        "id": "aRzfGjSpaogn"
      },
      "source": [
        "# How Noise Affects Accuracy"
      ]
    },
    {
      "cell_type": "markdown",
      "metadata": {
        "id": "mSdhVvW9DqNn"
      },
      "source": [
        "## Functions"
      ]
    },
    {
      "cell_type": "markdown",
      "metadata": {
        "id": "NJzhWV26EK2X"
      },
      "source": [
        "This function takes an image, produces some noise that is the same shape as the image (28x28) and the perform an elementwise addition for all pixels whose sum is less than the maximum intensity (255)."
      ]
    },
    {
      "cell_type": "code",
      "metadata": {
        "id": "oKdeWIGbgUK0"
      },
      "source": [
        "def noisify_image( image , scale ):\n",
        "\n",
        "  noise = np.random.normal(size = image.shape, \n",
        "                           loc = 0, \n",
        "                           scale = scale)\n",
        "  \n",
        "  new_image = np.zeros(image.shape)\n",
        "  for i in range(new_image.shape[0]):\n",
        "    for j in range(new_image.shape[1]):\n",
        "      comb = image[i][j] + noise[i][j] \n",
        "      if comb <= 255:\n",
        "        new_image[i][j] = comb\n",
        "      else:\n",
        "        new_image[i][j] = image[i][j] \n",
        "\n",
        "  return new_image"
      ],
      "execution_count": 40,
      "outputs": []
    },
    {
      "cell_type": "markdown",
      "metadata": {
        "id": "eMye6lXZd4F2"
      },
      "source": [
        "This function takes the dataset and creates a copy of it. It then adds normaly distributed random noise, with a specified standar deviation, to the images one at a time."
      ]
    },
    {
      "cell_type": "code",
      "metadata": {
        "id": "wMzg8Nu6Dugv"
      },
      "source": [
        "def noisify_prepare_data( image_set , scale ):\n",
        "\n",
        "  noisy_test_X = image_set.copy()\n",
        "  for i in tqdm(range(len(image_set))):\n",
        "    noisy_test_X[i] = noisify_image(image_set[i], scale)\n",
        "\n",
        "  noisy_test_X = noisy_test_X.reshape((image_set.shape[0], 28, 28, 1))\n",
        "  noisy_test_norm = noisy_test_X.astype('float32')\n",
        "  noisy_test_norm /= 255\n",
        "\n",
        "  return noisy_test_norm"
      ],
      "execution_count": 41,
      "outputs": []
    },
    {
      "cell_type": "markdown",
      "metadata": {
        "id": "yJElkuqEeK1t"
      },
      "source": [
        "This function takes an image and the standard deviation for the normaly distributed random noise and then plots the original image, the noise, the combination of the two."
      ]
    },
    {
      "cell_type": "code",
      "metadata": {
        "id": "AIb4aFbKEnLl"
      },
      "source": [
        "def show_noise(image, scale):\n",
        "\n",
        "  if len(image.shape) == 3:\n",
        "    image = image[:,:,0]    ## The image is size (28,28,1) but we only need the (28,28).\n",
        "\n",
        "  noise = np.random.normal(size = image.shape, \n",
        "                           loc = 0, \n",
        "                           scale = scale)\n",
        "  \n",
        "  new_image = np.zeros(image.shape)\n",
        "  for i in range(new_image.shape[0]):\n",
        "    for j in range(new_image.shape[1]):\n",
        "      comb = image[i][j] + noise[i][j] \n",
        "      if comb <= 255:\n",
        "        new_image[i][j] = comb\n",
        "      else:\n",
        "        new_image[i][j] = image[i][j] \n",
        "\n",
        "  plt.figure(figsize = (15,5))\n",
        "\n",
        "  plt.subplot(1,3,1)\n",
        "  plt.imshow(image)\n",
        "  plt.axis('off')\n",
        "  plt.title('Image')\n",
        "\n",
        "  plt.subplot(1,3,2)\n",
        "  plt.imshow(noise)\n",
        "  plt.axis('off')\n",
        "  plt.title('Noise')\n",
        "\n",
        "  plt.subplot(1,3,3)\n",
        "  plt.imshow(new_image)\n",
        "  plt.axis('off')\n",
        "  plt.title('Noisy Image')\n",
        "  plt.show()"
      ],
      "execution_count": 42,
      "outputs": []
    },
    {
      "cell_type": "markdown",
      "metadata": {
        "id": "FJFb29BChcz8"
      },
      "source": [
        "## Visualise Different Scales of Noise"
      ]
    },
    {
      "cell_type": "markdown",
      "metadata": {
        "id": "n8t7MBKSEx_5"
      },
      "source": [
        "Let's first have a look at how different levels of noise affects the images."
      ]
    },
    {
      "cell_type": "code",
      "metadata": {
        "colab": {
          "base_uri": "https://localhost:8080/",
          "height": 293
        },
        "id": "w1EUNy2Vhve6",
        "outputId": "dbdb64bd-0cab-495e-d224-dd5f08af0c6f"
      },
      "source": [
        "show_noise(test_X[0], 0.1)"
      ],
      "execution_count": 43,
      "outputs": [
        {
          "output_type": "display_data",
          "data": {
            "image/png": "[encoded data removed]",
            "text/plain": [
              "<Figure size 1080x360 with 3 Axes>"
            ]
          },
          "metadata": {
            "tags": [],
            "needs_background": "light"
          }
        }
      ]
    },
    {
      "cell_type": "code",
      "metadata": {
        "colab": {
          "base_uri": "https://localhost:8080/",
          "height": 293
        },
        "id": "N9-cYjYjkSkY",
        "outputId": "b1fcef9a-bb3b-498d-b881-ab185eaa3cd7"
      },
      "source": [
        "show_noise(test_X[0], 1)"
      ],
      "execution_count": 44,
      "outputs": [
        {
          "output_type": "display_data",
          "data": {
            "image/png": "[encoded data removed]",
            "text/plain": [
              "<Figure size 1080x360 with 3 Axes>"
            ]
          },
          "metadata": {
            "tags": [],
            "needs_background": "light"
          }
        }
      ]
    },
    {
      "cell_type": "code",
      "metadata": {
        "colab": {
          "base_uri": "https://localhost:8080/",
          "height": 293
        },
        "id": "UYwWNqqSotUf",
        "outputId": "1f71e29b-3512-499b-e6cc-ec76ce83a14f"
      },
      "source": [
        "show_noise(test_X[0], 5)"
      ],
      "execution_count": 45,
      "outputs": [
        {
          "output_type": "display_data",
          "data": {
            "image/png": "[encoded data removed]",
            "text/plain": [
              "<Figure size 1080x360 with 3 Axes>"
            ]
          },
          "metadata": {
            "tags": [],
            "needs_background": "light"
          }
        }
      ]
    },
    {
      "cell_type": "code",
      "metadata": {
        "colab": {
          "base_uri": "https://localhost:8080/",
          "height": 293
        },
        "id": "l3FXY_jQkr-H",
        "outputId": "a9ba03d1-6261-4d66-f614-de289a86cb3d"
      },
      "source": [
        "show_noise(test_X[0], 10)"
      ],
      "execution_count": 46,
      "outputs": [
        {
          "output_type": "display_data",
          "data": {
            "image/png": "[encoded data removed]",
            "text/plain": [
              "<Figure size 1080x360 with 3 Axes>"
            ]
          },
          "metadata": {
            "tags": [],
            "needs_background": "light"
          }
        }
      ]
    },
    {
      "cell_type": "code",
      "metadata": {
        "colab": {
          "base_uri": "https://localhost:8080/",
          "height": 293
        },
        "id": "H2vWw9lvkt0C",
        "outputId": "970a0390-82d1-4ea0-80a1-043803f624a8"
      },
      "source": [
        "show_noise(test_X[0], 100)"
      ],
      "execution_count": 47,
      "outputs": [
        {
          "output_type": "display_data",
          "data": {
            "image/png": "[encoded data removed]",
            "text/plain": [
              "<Figure size 1080x360 with 3 Axes>"
            ]
          },
          "metadata": {
            "tags": [],
            "needs_background": "light"
          }
        }
      ]
    },
    {
      "cell_type": "markdown",
      "metadata": {
        "id": "0Zeaxde9elUH"
      },
      "source": [
        "Understandably, with a standard deviation of 100, it is possible as a human to make out the number 7 in this image but it could be difficult in others. For a model that has been trained on perfect data, we can expect it to have a low accuracy with this much noise."
      ]
    },
    {
      "cell_type": "markdown",
      "metadata": {
        "id": "-v59aXcAe9Vd"
      },
      "source": [
        "Let's evaluate the model on the test set adjusted with these levels that we just visualised."
      ]
    },
    {
      "cell_type": "code",
      "metadata": {
        "id": "6tddA-hVkvWz",
        "colab": {
          "base_uri": "https://localhost:8080/"
        },
        "outputId": "539baa0e-5ea2-44ee-8fc1-7cb3b2a3fc79"
      },
      "source": [
        "noisy_test_01  = noisify_prepare_data( test_X_copy , 0.1)\n",
        "noisy_test_1   = noisify_prepare_data( test_X_copy , 1 )\n",
        "noisy_test_5   = noisify_prepare_data( test_X_copy , 5 )\n",
        "noisy_test_10  = noisify_prepare_data( test_X_copy , 10 )\n",
        "noisy_test_100 = noisify_prepare_data( test_X_copy , 100 )"
      ],
      "execution_count": null,
      "outputs": [
        {
          "output_type": "stream",
          "text": [
            "100%|██████████| 10000/10000 [00:28<00:00, 348.71it/s]\n",
            "100%|██████████| 10000/10000 [00:28<00:00, 347.85it/s]\n",
            "100%|██████████| 10000/10000 [00:28<00:00, 347.92it/s]\n",
            "100%|██████████| 10000/10000 [00:28<00:00, 350.45it/s]\n"
          ],
          "name": "stderr"
        }
      ]
    },
    {
      "cell_type": "code",
      "metadata": {
        "colab": {
          "base_uri": "https://localhost:8080/"
        },
        "id": "CqZ96qvUfdtJ",
        "outputId": "c6e02691-9e4b-4b67-888b-9bbe6710bb3e"
      },
      "source": [
        "_, test_acc  = model.evaluate(test_norm_copy, test_y, verbose=0)\n",
        "\n",
        "_, noise_acc_01  = model.evaluate(noisy_test_01, test_y, verbose=0)\n",
        "_, noise_acc_1   = model.evaluate(noisy_test_1, test_y, verbose=0)\n",
        "_, noise_acc_5   = model.evaluate(noisy_test_5, test_y, verbose=0)\n",
        "_, noise_acc_10  = model.evaluate(noisy_test_10, test_y, verbose=0)\n",
        "_, noise_acc_100 = model.evaluate(noisy_test_100, test_y, verbose=0)\n",
        "\n",
        "print('Test Accuracy = {:.2f}%'.format(test_acc * 100.0))\n",
        "print('Noisy Accuracy (std 0.1) =  {:.2f}%'.format(noise_acc_01 * 100.0))\n",
        "print('Noisy Accuracy (std 1  ) =  {:.2f}%'.format(noise_acc_1 * 100.0))\n",
        "print('Noisy Accuracy (std 5  ) =  {:.2f}%'.format(noise_acc_5 * 100.0))\n",
        "print('Noisy Accuracy (std 10 ) =  {:.2f}%'.format(noise_acc_10 * 100.0))\n",
        "print('Noisy Accuracy (std 100) =  {:.2f}%'.format(noise_acc_100 * 100.0))"
      ],
      "execution_count": null,
      "outputs": [
        {
          "output_type": "stream",
          "text": [
            "Test Accuracy = 98.97%\n",
            "Noisy Accuracy (std 0.1) =  98.98%\n",
            "Noisy Accuracy (std 1  ) =  78.52%\n",
            "Noisy Accuracy (std 5  ) =  37.18%\n",
            "Noisy Accuracy (std 10 ) =  32.63%\n"
          ],
          "name": "stdout"
        }
      ]
    },
    {
      "cell_type": "markdown",
      "metadata": {
        "id": "Vc5PriJId6Ws"
      },
      "source": [
        "## Evaluate the Model"
      ]
    },
    {
      "cell_type": "markdown",
      "metadata": {
        "id": "eSnQGfymeRkL"
      },
      "source": [
        "Takes about 30 seconds to transform the whole dataset so lets just take half the dataset (500 images) instead. We will add noise with a range of standard deviations from 0 - 100. At every level we will record the model accuracy on the adjusted test set."
      ]
    },
    {
      "cell_type": "code",
      "metadata": {
        "id": "paaJ5SsleEMA",
        "colab": {
          "base_uri": "https://localhost:8080/"
        },
        "outputId": "67d81d53-92e4-41e0-b6ce-5ca1bec946eb"
      },
      "source": [
        "test_500 = test_X_copy[:500].copy()\n",
        "test_500.shape"
      ],
      "execution_count": 48,
      "outputs": [
        {
          "output_type": "execute_result",
          "data": {
            "text/plain": [
              "(500, 28, 28, 1)"
            ]
          },
          "metadata": {
            "tags": []
          },
          "execution_count": 48
        }
      ]
    },
    {
      "cell_type": "code",
      "metadata": {
        "colab": {
          "base_uri": "https://localhost:8080/"
        },
        "id": "OUk5Su0xeqls",
        "outputId": "55c5d893-c46f-46bf-bbcb-b41cc5867e67"
      },
      "source": [
        "accuracies = []\n",
        "for i in range(100):\n",
        "  noisy_data = noisify_prepare_data( test_500, i )\n",
        "  _, acc = model.evaluate(noisy_data, test_y[:500], verbose = 0)\n",
        "  accuracies.append(acc)"
      ],
      "execution_count": 49,
      "outputs": [
        {
          "output_type": "stream",
          "text": [
            "100%|██████████| 500/500 [00:01<00:00, 363.73it/s]\n",
            "100%|██████████| 500/500 [00:01<00:00, 343.56it/s]\n",
            "100%|██████████| 500/500 [00:01<00:00, 362.72it/s]\n",
            "100%|██████████| 500/500 [00:01<00:00, 364.43it/s]\n",
            "100%|██████████| 500/500 [00:01<00:00, 361.67it/s]\n",
            "100%|██████████| 500/500 [00:01<00:00, 355.01it/s]\n",
            "100%|██████████| 500/500 [00:01<00:00, 355.50it/s]\n",
            "100%|██████████| 500/500 [00:01<00:00, 372.43it/s]\n",
            "100%|██████████| 500/500 [00:01<00:00, 364.09it/s]\n",
            "100%|██████████| 500/500 [00:01<00:00, 362.69it/s]\n",
            "100%|██████████| 500/500 [00:01<00:00, 370.47it/s]\n",
            "100%|██████████| 500/500 [00:01<00:00, 365.33it/s]\n",
            "100%|██████████| 500/500 [00:01<00:00, 354.98it/s]\n",
            "100%|██████████| 500/500 [00:01<00:00, 360.74it/s]\n",
            "100%|██████████| 500/500 [00:01<00:00, 354.00it/s]\n",
            "100%|██████████| 500/500 [00:01<00:00, 368.89it/s]\n",
            "100%|██████████| 500/500 [00:01<00:00, 358.62it/s]\n",
            "100%|██████████| 500/500 [00:01<00:00, 342.19it/s]\n",
            "100%|██████████| 500/500 [00:01<00:00, 353.04it/s]\n",
            "100%|██████████| 500/500 [00:01<00:00, 356.59it/s]\n",
            "100%|██████████| 500/500 [00:01<00:00, 364.42it/s]\n",
            "100%|██████████| 500/500 [00:01<00:00, 347.11it/s]\n",
            "100%|██████████| 500/500 [00:01<00:00, 363.99it/s]\n",
            "100%|██████████| 500/500 [00:01<00:00, 368.21it/s]\n",
            "100%|██████████| 500/500 [00:01<00:00, 362.23it/s]\n",
            "100%|██████████| 500/500 [00:01<00:00, 359.28it/s]\n",
            "100%|██████████| 500/500 [00:01<00:00, 359.64it/s]\n",
            "100%|██████████| 500/500 [00:01<00:00, 358.38it/s]\n",
            "100%|██████████| 500/500 [00:01<00:00, 362.12it/s]\n",
            "100%|██████████| 500/500 [00:01<00:00, 353.46it/s]\n",
            "100%|██████████| 500/500 [00:01<00:00, 361.55it/s]\n",
            "100%|██████████| 500/500 [00:01<00:00, 362.07it/s]\n",
            "100%|██████████| 500/500 [00:01<00:00, 363.60it/s]\n",
            "100%|██████████| 500/500 [00:01<00:00, 354.20it/s]\n",
            "100%|██████████| 500/500 [00:01<00:00, 362.39it/s]\n",
            "100%|██████████| 500/500 [00:01<00:00, 358.45it/s]\n",
            "100%|██████████| 500/500 [00:01<00:00, 357.37it/s]\n",
            "100%|██████████| 500/500 [00:01<00:00, 360.28it/s]\n",
            "100%|██████████| 500/500 [00:01<00:00, 360.34it/s]\n",
            "100%|██████████| 500/500 [00:01<00:00, 359.93it/s]\n",
            "100%|██████████| 500/500 [00:01<00:00, 347.56it/s]\n",
            "100%|██████████| 500/500 [00:01<00:00, 355.85it/s]\n",
            "100%|██████████| 500/500 [00:01<00:00, 367.08it/s]\n",
            "100%|██████████| 500/500 [00:01<00:00, 362.20it/s]\n",
            "100%|██████████| 500/500 [00:01<00:00, 361.73it/s]\n",
            "100%|██████████| 500/500 [00:01<00:00, 363.93it/s]\n",
            "100%|██████████| 500/500 [00:01<00:00, 352.31it/s]\n",
            "100%|██████████| 500/500 [00:01<00:00, 359.29it/s]\n",
            "100%|██████████| 500/500 [00:01<00:00, 360.44it/s]\n",
            "100%|██████████| 500/500 [00:01<00:00, 358.51it/s]\n",
            "100%|██████████| 500/500 [00:01<00:00, 362.74it/s]\n",
            "100%|██████████| 500/500 [00:01<00:00, 367.22it/s]\n",
            "100%|██████████| 500/500 [00:01<00:00, 361.42it/s]\n",
            "100%|██████████| 500/500 [00:01<00:00, 360.56it/s]\n",
            "100%|██████████| 500/500 [00:01<00:00, 355.48it/s]\n",
            "100%|██████████| 500/500 [00:01<00:00, 356.02it/s]\n",
            "100%|██████████| 500/500 [00:01<00:00, 348.33it/s]\n",
            "100%|██████████| 500/500 [00:01<00:00, 351.32it/s]\n",
            "100%|██████████| 500/500 [00:01<00:00, 359.86it/s]\n",
            "100%|██████████| 500/500 [00:01<00:00, 359.46it/s]\n",
            "100%|██████████| 500/500 [00:01<00:00, 357.09it/s]\n",
            "100%|██████████| 500/500 [00:01<00:00, 353.23it/s]\n",
            "100%|██████████| 500/500 [00:01<00:00, 367.32it/s]\n",
            "100%|██████████| 500/500 [00:01<00:00, 362.56it/s]\n",
            "100%|██████████| 500/500 [00:01<00:00, 359.97it/s]\n",
            "100%|██████████| 500/500 [00:01<00:00, 367.89it/s]\n",
            "100%|██████████| 500/500 [00:01<00:00, 361.36it/s]\n",
            "100%|██████████| 500/500 [00:01<00:00, 366.16it/s]\n",
            "100%|██████████| 500/500 [00:01<00:00, 356.62it/s]\n",
            "100%|██████████| 500/500 [00:01<00:00, 356.84it/s]\n",
            "100%|██████████| 500/500 [00:01<00:00, 347.83it/s]\n",
            "100%|██████████| 500/500 [00:01<00:00, 361.03it/s]\n",
            "100%|██████████| 500/500 [00:01<00:00, 364.77it/s]\n",
            "100%|██████████| 500/500 [00:01<00:00, 362.18it/s]\n",
            "100%|██████████| 500/500 [00:01<00:00, 367.04it/s]\n",
            "100%|██████████| 500/500 [00:01<00:00, 366.78it/s]\n",
            "100%|██████████| 500/500 [00:01<00:00, 365.54it/s]\n",
            "100%|██████████| 500/500 [00:01<00:00, 368.50it/s]\n",
            "100%|██████████| 500/500 [00:01<00:00, 351.86it/s]\n",
            "100%|██████████| 500/500 [00:01<00:00, 368.52it/s]\n",
            "100%|██████████| 500/500 [00:01<00:00, 362.18it/s]\n",
            "100%|██████████| 500/500 [00:01<00:00, 367.45it/s]\n",
            "100%|██████████| 500/500 [00:01<00:00, 360.84it/s]\n",
            "100%|██████████| 500/500 [00:01<00:00, 358.09it/s]\n",
            "100%|██████████| 500/500 [00:01<00:00, 362.82it/s]\n",
            "100%|██████████| 500/500 [00:01<00:00, 360.47it/s]\n",
            "100%|██████████| 500/500 [00:01<00:00, 372.06it/s]\n",
            "100%|██████████| 500/500 [00:01<00:00, 356.60it/s]\n",
            "100%|██████████| 500/500 [00:01<00:00, 364.32it/s]\n",
            "100%|██████████| 500/500 [00:01<00:00, 361.50it/s]\n",
            "100%|██████████| 500/500 [00:01<00:00, 367.99it/s]\n",
            "100%|██████████| 500/500 [00:01<00:00, 361.20it/s]\n",
            "100%|██████████| 500/500 [00:01<00:00, 364.21it/s]\n",
            "100%|██████████| 500/500 [00:01<00:00, 363.77it/s]\n",
            "100%|██████████| 500/500 [00:01<00:00, 365.57it/s]\n",
            "100%|██████████| 500/500 [00:01<00:00, 356.64it/s]\n",
            "100%|██████████| 500/500 [00:01<00:00, 368.08it/s]\n",
            "100%|██████████| 500/500 [00:01<00:00, 361.99it/s]\n",
            "100%|██████████| 500/500 [00:01<00:00, 363.96it/s]\n",
            "100%|██████████| 500/500 [00:01<00:00, 360.17it/s]\n"
          ],
          "name": "stderr"
        }
      ]
    },
    {
      "cell_type": "code",
      "metadata": {
        "colab": {
          "base_uri": "https://localhost:8080/",
          "height": 513
        },
        "id": "k6NV5w_HPbkn",
        "outputId": "49393cff-0860-458f-a0c3-97916f9cd16d"
      },
      "source": [
        "fig = plt.figure(figsize = (8, 8))\n",
        "ax  = fig.add_subplot(1, 1, 1)\n",
        "ax.plot(range(100), accuracies)\n",
        "ax.spines['bottom'].set_color('#18293A')\n",
        "ax.spines['top'].set_color('#18293A') \n",
        "ax.spines['right'].set_color('#18293A')\n",
        "ax.spines['left'].set_color('#18293A')\n",
        "ax.title.set_text('How Noise Affects Accuracy')\n",
        "# ax.tick_params(axis = 'x', labelrotation = 45)\n",
        "ax.set_ylabel('Accuracy')\n",
        "ax.set_xlabel('Noise (STD)')\n",
        "ax.set_ylim((0,1))\n",
        "plt.show()  "
      ],
      "execution_count": 55,
      "outputs": [
        {
          "output_type": "display_data",
          "data": {
            "image/png": "[encoded data removed]",
            "text/plain": [
              "<Figure size 576x576 with 1 Axes>"
            ]
          },
          "metadata": {
            "tags": [],
            "needs_background": "light"
          }
        }
      ]
    },
    {
      "cell_type": "markdown",
      "metadata": {
        "id": "97xqV2iSf69l"
      },
      "source": [
        "The accuracy drops so quickly with only a slight addition of noise! This shows how delicate the model is to the training data.\n",
        "\n",
        "Note that there are 10 classes, so an accuracy of 0.1 would be guessing with a random chance of being correct. So an accuracy of 0.2 is only slightly better than guessing at random. "
      ]
    },
    {
      "cell_type": "markdown",
      "metadata": {
        "id": "m9gZE9VtgUZE"
      },
      "source": [
        "# How Adding White Boxes Affects Accuracy "
      ]
    },
    {
      "cell_type": "markdown",
      "metadata": {
        "id": "76E47R74gnJO"
      },
      "source": [
        "In this section we will add random white (pixel value = 255) boxes to the images and see how these will affect the accuracy."
      ]
    },
    {
      "cell_type": "markdown",
      "metadata": {
        "id": "p2nkxF7_gv22"
      },
      "source": [
        "## Functions"
      ]
    },
    {
      "cell_type": "markdown",
      "metadata": {
        "id": "jkSeE8B3gxas"
      },
      "source": [
        "This function takes the image and box size that is an odd number. It will then select a random location that allows for the entire box to be added and then fills that part of the image with white pixels."
      ]
    },
    {
      "cell_type": "code",
      "metadata": {
        "id": "nm8JZSRom-zn"
      },
      "source": [
        "def add_box( image, box_size ):\n",
        "\n",
        "  side_px = int((box_size - 1) / 2)\n",
        "\n",
        "  center_i = np.random.randint(low = side_px, \n",
        "                               high = image.shape[0] - side_px,\n",
        "                               size = 1)[0]\n",
        "  \n",
        "  center_j = np.random.randint(low = side_px, \n",
        "                               high = image.shape[0] - side_px,\n",
        "                               size = 1)[0]\n",
        "  new_image = image.copy()\n",
        "  for i in range(center_i - side_px, center_i + side_px + 1):\n",
        "    for j in range(center_j - side_px, center_j + side_px +1 ):\n",
        "\n",
        "      new_image[i][j] = 255\n",
        "  \n",
        "  return new_image"
      ],
      "execution_count": null,
      "outputs": []
    },
    {
      "cell_type": "markdown",
      "metadata": {
        "id": "u1F4z3bzhBX9"
      },
      "source": [
        "This function takes the entire dataset and adds square boxes with the side length of a specified number of pixels."
      ]
    },
    {
      "cell_type": "code",
      "metadata": {
        "id": "zKk14RyJ4xrg"
      },
      "source": [
        "def add_boxes( image_set , box_size ):\n",
        "  image_set_boxes   = np.array([add_box(image, box_size) for image in image_set])\n",
        "  image_set_boxes   = image_set_boxes.reshape((image_set_boxes.shape[0], 28, 28, 1))\n",
        "  image_norm_boxes  = image_set_boxes.astype('float32')\n",
        "  image_norm_boxes /= 255\n",
        "\n",
        "  return image_norm_boxes"
      ],
      "execution_count": null,
      "outputs": []
    },
    {
      "cell_type": "markdown",
      "metadata": {
        "id": "1JF5a4Hehcee"
      },
      "source": [
        "This function can be used to visualise the boxes on the image."
      ]
    },
    {
      "cell_type": "code",
      "metadata": {
        "id": "myU47t_ihcDN"
      },
      "source": [
        "def show_box( image , box_size ):\n",
        "\n",
        "  box_image = add_box(image, box_size)\n",
        "\n",
        "  plt.figure(figsize = (10,5))\n",
        "\n",
        "  plt.subplot(1,2,1)\n",
        "  plt.imshow(image)\n",
        "  plt.axis('off')\n",
        "  plt.title('Image')\n",
        "\n",
        "  plt.subplot(1,2,2)\n",
        "  plt.imshow(box_image)\n",
        "  plt.axis('off')\n",
        "  plt.title(f'Image with a Box ({box_size} x {box_size})')"
      ],
      "execution_count": null,
      "outputs": []
    },
    {
      "cell_type": "markdown",
      "metadata": {
        "id": "h6ocOW8CiiC0"
      },
      "source": [
        "## Visualise Some Boxes"
      ]
    },
    {
      "cell_type": "code",
      "metadata": {
        "colab": {
          "base_uri": "https://localhost:8080/",
          "height": 301
        },
        "id": "uPJANSqHilMF",
        "outputId": "8b598fe1-1284-4b1e-d506-5de86fd90547"
      },
      "source": [
        "show_box(test_X_copy[0][:,:,0], 3)"
      ],
      "execution_count": null,
      "outputs": [
        {
          "output_type": "display_data",
          "data": {
            "image/png": "[encoded data removed]",
            "text/plain": [
              "<Figure size 720x360 with 2 Axes>"
            ]
          },
          "metadata": {
            "tags": [],
            "needs_background": "light"
          }
        }
      ]
    },
    {
      "cell_type": "code",
      "metadata": {
        "colab": {
          "base_uri": "https://localhost:8080/",
          "height": 301
        },
        "id": "5AaA-KMhjCNs",
        "outputId": "feebaef1-3187-4706-d1c5-1092f3e0e8fa"
      },
      "source": [
        "show_box(test_X_copy[0][:,:,0], 6)"
      ],
      "execution_count": null,
      "outputs": [
        {
          "output_type": "display_data",
          "data": {
            "image/png": "[encoded data removed]",
            "text/plain": [
              "<Figure size 720x360 with 2 Axes>"
            ]
          },
          "metadata": {
            "tags": [],
            "needs_background": "light"
          }
        }
      ]
    },
    {
      "cell_type": "code",
      "metadata": {
        "colab": {
          "base_uri": "https://localhost:8080/",
          "height": 301
        },
        "id": "z1Qg8aqDi_wd",
        "outputId": "c7dfe47c-ae98-4faf-e4db-6c1c41574952"
      },
      "source": [
        "show_box(test_X_copy[0][:,:,0], 17)"
      ],
      "execution_count": null,
      "outputs": [
        {
          "output_type": "display_data",
          "data": {
            "image/png": "[encoded data removed]",
            "text/plain": [
              "<Figure size 720x360 with 2 Axes>"
            ]
          },
          "metadata": {
            "tags": [],
            "needs_background": "light"
          }
        }
      ]
    },
    {
      "cell_type": "markdown",
      "metadata": {
        "id": "QW-pI6ABiDSO"
      },
      "source": [
        "## Evaluate the Model"
      ]
    },
    {
      "cell_type": "markdown",
      "metadata": {
        "id": "chOvYthflU6z"
      },
      "source": [
        "Let's evaluate the model on boxes with sizes ranging from 3x3 pixels to 27x27 pixels in increaments of 2 pixels per side (eg. 3x3, 5x5, 7x7, ..., 27x27)."
      ]
    },
    {
      "cell_type": "code",
      "metadata": {
        "colab": {
          "base_uri": "https://localhost:8080/"
        },
        "id": "n0CbL16z1_Iz",
        "outputId": "d3b4e5ab-6acb-4b51-b314-3e662c08cb9e"
      },
      "source": [
        "accuracies = []\n",
        "for i in tqdm(range(3,29,2)):\n",
        "  box_data = add_boxes(test_X_copy, i)\n",
        "  _, acc = model.evaluate(box_data, test_y, verbose = 0)\n",
        "  accuracies.append(acc)"
      ],
      "execution_count": null,
      "outputs": [
        {
          "output_type": "stream",
          "text": [
            "100%|██████████| 13/13 [00:34<00:00,  2.67s/it]\n"
          ],
          "name": "stderr"
        }
      ]
    },
    {
      "cell_type": "code",
      "metadata": {
        "colab": {
          "base_uri": "https://localhost:8080/",
          "height": 512
        },
        "id": "kSoWdQW94pDI",
        "outputId": "899c1838-52e7-4bd3-fc21-6e6b3ccc7c08"
      },
      "source": [
        "plt.figure(figsize = (8,8))\n",
        "plt.plot(range(3,29,2), accuracies)\n",
        "plt.title('How Random Boxes of Specified Size Affect Accuracy')\n",
        "plt.xlabel('Box Size (pixels)')\n",
        "plt.ylabel('Accuracy')\n",
        "plt.ylim((0,1))\n",
        "plt.show()"
      ],
      "execution_count": null,
      "outputs": [
        {
          "output_type": "display_data",
          "data": {
            "image/png": "[encoded data removed]",
            "text/plain": [
              "<Figure size 576x576 with 1 Axes>"
            ]
          },
          "metadata": {
            "tags": [],
            "needs_background": "light"
          }
        }
      ]
    },
    {
      "cell_type": "markdown",
      "metadata": {
        "id": "Oh1k-7s_lnzD"
      },
      "source": [
        "It's no suprise that with a box covering 27x27 pixels in a 28x28 image, the model achieves an accuracy of random. You would get the same accuracy if you were just to call a random number generator."
      ]
    },
    {
      "cell_type": "markdown",
      "metadata": {
        "id": "R9FppbQx7DI9"
      },
      "source": [
        "# How Adding White Pixels Affects Accuracy"
      ]
    },
    {
      "cell_type": "markdown",
      "metadata": {
        "id": "rKN-0ndsjNvD"
      },
      "source": [
        "In this section we will just add a specified number of pixels to the images and see how these will affect the model accuracy."
      ]
    },
    {
      "cell_type": "markdown",
      "metadata": {
        "id": "94m0Lku9jahb"
      },
      "source": [
        "## Functions"
      ]
    },
    {
      "cell_type": "markdown",
      "metadata": {
        "id": "UpndfuIZjhrj"
      },
      "source": [
        "Here we copy the image and for the number of pixels specified we add white pixels at a random position. This function doesn't account for duplicated but there is a probability of 1 / (784 * number of pixels) of getting the same position twice as each position is independent of each other. So if you want to add 5 pixels, the probability of getting the same pixel twice is 0.000255. In a dataset size of 500, this is will not have a significant effect."
      ]
    },
    {
      "cell_type": "code",
      "metadata": {
        "id": "tlc6dbHY64Sd"
      },
      "source": [
        "def add_pixels( image , no_pixels ):\n",
        "  new_image = image.copy()\n",
        "  \n",
        "  for _ in range(no_pixels):\n",
        "    center_i = np.random.randint(low = 0, \n",
        "                                high = image.shape[0],\n",
        "                                size = 1)[0]\n",
        "  \n",
        "    center_j = np.random.randint(low = 0, \n",
        "                                high = image.shape[0],\n",
        "                                size = 1)[0]\n",
        "\n",
        "    new_image[center_i, center_j] = 255\n",
        "  \n",
        "  return new_image"
      ],
      "execution_count": null,
      "outputs": []
    },
    {
      "cell_type": "markdown",
      "metadata": {
        "id": "8N3kftAmkodL"
      },
      "source": [
        "This function takes the above function and applies it to the entire data set and then performs the appropriate transformations to prepare for evaluation."
      ]
    },
    {
      "cell_type": "code",
      "metadata": {
        "id": "7tvsJc2x8GV0"
      },
      "source": [
        "def add_pixels_to_images( image_set , pixels ):\n",
        "  image_set_pixels   = np.array([add_pixels(image, pixels) for image in image_set])\n",
        "  image_set_pixels   = image_set_pixels.reshape((image_set_pixels.shape[0], 28, 28, 1))\n",
        "  image_norm_pixels  = image_set_pixels.astype('float32')\n",
        "  image_norm_pixels /= 255 \n",
        "\n",
        "  return image_norm_pixels"
      ],
      "execution_count": null,
      "outputs": []
    },
    {
      "cell_type": "markdown",
      "metadata": {
        "id": "KUbOB8wvmOGz"
      },
      "source": [
        "This function just takes an image and shows how the output would look."
      ]
    },
    {
      "cell_type": "code",
      "metadata": {
        "id": "rXlAlZKFk0s6"
      },
      "source": [
        "def show_pixels( image , pixels ):\n",
        "\n",
        "  pixel_image = add_pixels(image, pixels)\n",
        "\n",
        "  plt.figure(figsize = (10,5))\n",
        "\n",
        "  plt.subplot(1,2,1)\n",
        "  plt.imshow(image)\n",
        "  plt.axis('off')\n",
        "  plt.title('Image')\n",
        "\n",
        "  plt.subplot(1,2,2)\n",
        "  plt.imshow(pixel_image)\n",
        "  plt.axis('off')\n",
        "  plt.title(f'Image with {pixels} White Pixels')"
      ],
      "execution_count": null,
      "outputs": []
    },
    {
      "cell_type": "markdown",
      "metadata": {
        "id": "6gCOzMZ7lORs"
      },
      "source": [
        "## Visualise the Pixels"
      ]
    },
    {
      "cell_type": "code",
      "metadata": {
        "colab": {
          "base_uri": "https://localhost:8080/",
          "height": 301
        },
        "id": "2wCk9j5gmM7c",
        "outputId": "58772e51-c201-47c3-de76-37765a4bfb02"
      },
      "source": [
        "show_pixels( test_X_copy[0][:,:,0], 5)"
      ],
      "execution_count": null,
      "outputs": [
        {
          "output_type": "display_data",
          "data": {
            "image/png": "[encoded data removed]",
            "text/plain": [
              "<Figure size 720x360 with 2 Axes>"
            ]
          },
          "metadata": {
            "tags": [],
            "needs_background": "light"
          }
        }
      ]
    },
    {
      "cell_type": "markdown",
      "metadata": {
        "id": "JjGBOy-7mfM0"
      },
      "source": [
        "Here you can only notice 4 of the 5 pixels, likely because one of the pixels overlapped with the 7. "
      ]
    },
    {
      "cell_type": "markdown",
      "metadata": {
        "id": "WbKshgQmm_BD"
      },
      "source": [
        "## Evaluate the mModel"
      ]
    },
    {
      "cell_type": "markdown",
      "metadata": {
        "id": "c0rQO96NnJR6"
      },
      "source": [
        "Here, we incrementally add pixels from 0 to the total number of pixels in image and evaluate the model on this dataset. This takes a while so just use 100 test images as 1000 would take too long but we will still see the trend with 100."
      ]
    },
    {
      "cell_type": "code",
      "metadata": {
        "colab": {
          "base_uri": "https://localhost:8080/"
        },
        "id": "DVOLgXYG8Loe",
        "outputId": "941a4b93-550e-4b1e-a0ab-c42004e7da8b"
      },
      "source": [
        "accuracies = []\n",
        "for i in tqdm(range(test_X_copy.shape[1] * test_X_copy.shape[2])):\n",
        "  image_pixel_set = add_pixels_to_images(test_X_copy[:100], i)\n",
        "  _, acc = model.evaluate(image_pixel_set, test_y[:100], verbose = 0)\n",
        "  accuracies.append(acc)"
      ],
      "execution_count": null,
      "outputs": [
        {
          "output_type": "stream",
          "text": [
            "100%|██████████| 784/784 [29:00<00:00,  2.22s/it]\n"
          ],
          "name": "stderr"
        }
      ]
    },
    {
      "cell_type": "code",
      "metadata": {
        "id": "72mgJG1--8uz",
        "colab": {
          "base_uri": "https://localhost:8080/",
          "height": 513
        },
        "outputId": "50d48305-7907-44c9-c7df-43c13cc04ba8"
      },
      "source": [
        "plt.figure(figsize = (8,8))\n",
        "plt.plot(range(len(accuracies)), accuracies)\n",
        "plt.title('How Adding Pixels Affects Accuracy')\n",
        "plt.xlabel('Number of Pixels')\n",
        "plt.ylabel('Accuracy')\n",
        "plt.ylim((0,1))\n",
        "plt.show()"
      ],
      "execution_count": null,
      "outputs": [
        {
          "output_type": "display_data",
          "data": {
            "image/png": "[encoded data removed]",
            "text/plain": [
              "<Figure size 576x576 with 1 Axes>"
            ]
          },
          "metadata": {
            "tags": [],
            "needs_background": "light"
          }
        }
      ]
    },
    {
      "cell_type": "markdown",
      "metadata": {
        "id": "lUdpCkrcoFcr"
      },
      "source": [
        "## Investigating the Results"
      ]
    },
    {
      "cell_type": "markdown",
      "metadata": {
        "id": "7BOOMbNsnmV7"
      },
      "source": [
        "To understand where this accuracy becomes more shallow we could look at the number of foregound pixels (those that are contained in the number) and compare that to the number of white pixels that we have added."
      ]
    },
    {
      "cell_type": "markdown",
      "metadata": {
        "id": "SmHjYVIjoVAy"
      },
      "source": [
        "Rather than counting the foreground pixels, we will count the number of background pixels and take this away from the total number of pixels."
      ]
    },
    {
      "cell_type": "code",
      "metadata": {
        "id": "txQHC-FZotB9"
      },
      "source": [
        "def count_foreground( image ):\n",
        "\n",
        "  unique, counts = np.unique(image, return_counts=True)\n",
        "  count_dic = dict(zip(unique, counts))\n",
        "  count_0 = count_dic[0]\n",
        "  \n",
        "  return (image.shape[0] * image.shape[1]) - count_0 "
      ],
      "execution_count": null,
      "outputs": []
    },
    {
      "cell_type": "code",
      "metadata": {
        "id": "TVYj0J_LpM8A"
      },
      "source": [
        "def get_average_foreground( image_set ):\n",
        "  counts = [count_foreground(image) for image in image_set]\n",
        "  return sum(counts)/len(counts)"
      ],
      "execution_count": null,
      "outputs": []
    },
    {
      "cell_type": "markdown",
      "metadata": {
        "id": "0T4mygfZpxHC"
      },
      "source": [
        "To compare to the above results, let's look at the same data."
      ]
    },
    {
      "cell_type": "code",
      "metadata": {
        "id": "d7PzDWpiph-l"
      },
      "source": [
        "mean_fg_pixels = get_average_foreground(test_X_copy[:200])"
      ],
      "execution_count": null,
      "outputs": []
    },
    {
      "cell_type": "code",
      "metadata": {
        "colab": {
          "base_uri": "https://localhost:8080/"
        },
        "id": "Jkd0IxHop1lG",
        "outputId": "569f9518-60f5-4e8e-b25e-f5b36709e7e2"
      },
      "source": [
        "print(f'Mean number of foreground Pixels = {mean_fg_pixels}')"
      ],
      "execution_count": null,
      "outputs": [
        {
          "output_type": "stream",
          "text": [
            "Mean number of foreground Pixels = 139.675\n"
          ],
          "name": "stdout"
        }
      ]
    },
    {
      "cell_type": "code",
      "metadata": {
        "colab": {
          "base_uri": "https://localhost:8080/",
          "height": 513
        },
        "id": "zXRsxUcop3CE",
        "outputId": "1889f830-1706-4c1d-95d5-1092307a432f"
      },
      "source": [
        "plt.figure(figsize = (8,8))\n",
        "plt.plot(range(len(accuracies)), accuracies, label = 'Accuracy')\n",
        "plt.plot([mean_fg_pixels]*2, [0,1], c = 'red', label = 'Mean Foreground Pixels')\n",
        "plt.title('How Adding Pixels Affects Accuracy')\n",
        "plt.xlabel('Number of Pixels')\n",
        "plt.ylabel('Accuracy')\n",
        "plt.ylim((0,1))\n",
        "plt.legend()\n",
        "plt.show()"
      ],
      "execution_count": null,
      "outputs": [
        {
          "output_type": "display_data",
          "data": {
            "image/png": "[encoded data removed]",
            "text/plain": [
              "<Figure size 576x576 with 1 Axes>"
            ]
          },
          "metadata": {
            "tags": [],
            "needs_background": "light"
          }
        }
      ]
    },
    {
      "cell_type": "markdown",
      "metadata": {
        "id": "ctiyCW0XqeFZ"
      },
      "source": [
        "This is lower than I was expecting. My thought was that when we introduce as many white pixels as there are pixels making up the number in the image, the accuracy will begin to get signigicantly worse. However, this happens roughly around double this (~350), which also makes sense."
      ]
    },
    {
      "cell_type": "markdown",
      "metadata": {
        "id": "sOzIyzqprEHi"
      },
      "source": [
        "Let's see what these look like."
      ]
    },
    {
      "cell_type": "markdown",
      "metadata": {
        "id": "p6wE7gbGrXKi"
      },
      "source": [
        "This is with the average number of foreground pixels."
      ]
    },
    {
      "cell_type": "code",
      "metadata": {
        "colab": {
          "base_uri": "https://localhost:8080/",
          "height": 301
        },
        "id": "nN-BCkQxrDhM",
        "outputId": "ce401cfc-72b6-494c-db1b-740f63134b07"
      },
      "source": [
        "show_pixels( test_X_copy[0][:,:,0], int(round(mean_fg_pixels)))"
      ],
      "execution_count": null,
      "outputs": [
        {
          "output_type": "display_data",
          "data": {
            "image/png": "[encoded data removed]",
            "text/plain": [
              "<Figure size 720x360 with 2 Axes>"
            ]
          },
          "metadata": {
            "tags": [],
            "needs_background": "light"
          }
        }
      ]
    },
    {
      "cell_type": "markdown",
      "metadata": {
        "id": "qAKGBPHNrbTl"
      },
      "source": [
        "This is will double the average number of foreground pixels."
      ]
    },
    {
      "cell_type": "code",
      "metadata": {
        "colab": {
          "base_uri": "https://localhost:8080/",
          "height": 301
        },
        "id": "R9DGXtQlrUPz",
        "outputId": "12fde2cc-6cd2-44bf-d435-6b42a9781f8d"
      },
      "source": [
        "show_pixels( test_X_copy[0][:,:,0], int(round(mean_fg_pixels)) * 2)"
      ],
      "execution_count": null,
      "outputs": [
        {
          "output_type": "display_data",
          "data": {
            "image/png": "[encoded data removed]",
            "text/plain": [
              "<Figure size 720x360 with 2 Axes>"
            ]
          },
          "metadata": {
            "tags": [],
            "needs_background": "light"
          }
        }
      ]
    },
    {
      "cell_type": "markdown",
      "metadata": {
        "id": "EUxfWLwwr9iR"
      },
      "source": [
        "This is triple the average."
      ]
    },
    {
      "cell_type": "code",
      "metadata": {
        "colab": {
          "base_uri": "https://localhost:8080/",
          "height": 301
        },
        "id": "kqBIUY2EsBxJ",
        "outputId": "e97c21ef-1b05-4777-ac8d-21bcdcd8e55c"
      },
      "source": [
        "show_pixels( test_X_copy[0][:,:,0], int(round(mean_fg_pixels)) * 3)"
      ],
      "execution_count": null,
      "outputs": [
        {
          "output_type": "display_data",
          "data": {
            "image/png": "[encoded data removed]",
            "text/plain": [
              "<Figure size 720x360 with 2 Axes>"
            ]
          },
          "metadata": {
            "tags": [],
            "needs_background": "light"
          }
        }
      ]
    },
    {
      "cell_type": "markdown",
      "metadata": {
        "id": "9lvpoVO_rnxS"
      },
      "source": [
        "Visually we can see how much worse the second one (280 pixels) is to classify compared to 140 white-pixel image. However, in my opinion the 420 white-pixel image is not significantly worse than the 280 image. So we can understand why the model got drastically worse when adding up to 280 pixels and then only got gradually worse following this. "
      ]
    },
    {
      "cell_type": "code",
      "metadata": {
        "id": "TzJkYR-zrmNP"
      },
      "source": [
        ""
      ],
      "execution_count": null,
      "outputs": []
    }
  ]
}